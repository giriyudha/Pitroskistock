{
 "cells": [
  {
   "cell_type": "markdown",
   "metadata": {},
   "source": [
    "# THIS IS AN ATTEMPT OF AUTOMATING STOCKPICK WITH FUNDAMENTAL ANALYSIS"
   ]
  },
  {
   "cell_type": "markdown",
   "metadata": {},
   "source": [
    "# METHOD USED:\n",
    "1.Piotroski-F Score\n",
    "2.Dividend Yield\n",
    "3.Growth\n",
    "4.Industry comparison"
   ]
  },
  {
   "cell_type": "code",
   "execution_count": 1,
   "metadata": {},
   "outputs": [],
   "source": [
    "import pandas as pd\n",
    "import numpy as np\n",
    "from datetime import datetime\n",
    "import yahoo_fin.stock_info as yf"
   ]
  },
  {
   "cell_type": "code",
   "execution_count": 2,
   "metadata": {},
   "outputs": [],
   "source": [
    "balance_sheet=[]\n",
    "income_statement=[]\n",
    "cfs=[]\n",
    "years=[]\n",
    "profitability_score = 0\n",
    "leverage_score= 0\n",
    "operating_efficiency_score = 0"
   ]
  },
  {
   "cell_type": "markdown",
   "metadata": {},
   "source": [
    "USE THIS IF U WANT TO SEARCH FOR BEST BANK INDUSTRY STOCK"
   ]
  },
  {
   "cell_type": "code",
   "execution_count": 3,
   "metadata": {},
   "outputs": [
    {
     "data": {
      "text/plain": [
       "['BBRI.JK',\n",
       " 'BBNI.JK',\n",
       " 'BBCA.JK',\n",
       " 'BMRI.JK',\n",
       " 'BRIS.JK',\n",
       " 'BTPS.JK',\n",
       " 'BNGA.JK',\n",
       " 'BTPN.JK',\n",
       " 'BBTN.JK',\n",
       " 'BDMN.JK',\n",
       " 'BNLI.JK',\n",
       " 'BJBR.JK',\n",
       " 'BJTM.JK']"
      ]
     },
     "execution_count": 3,
     "metadata": {},
     "output_type": "execute_result"
    }
   ],
   "source": [
    "bank_data=open('banks.txt', 'r')\n",
    "bank_content=bank_data.read()\n",
    "banks=bank_content.split(',')\n",
    "bank_data.close()\n",
    "banks"
   ]
  },
  {
   "cell_type": "code",
   "execution_count": 4,
   "metadata": {},
   "outputs": [
    {
     "data": {
      "text/plain": [
       "['BBRI.JK',\n",
       " 'BBNI.JK',\n",
       " 'BBCA.JK',\n",
       " 'BMRI.JK',\n",
       " 'BRIS.JK',\n",
       " 'BTPS.JK',\n",
       " 'BNGA.JK',\n",
       " 'BTPN.JK',\n",
       " 'BBTN.JK',\n",
       " 'BDMN.JK',\n",
       " 'BNLI.JK',\n",
       " 'BJBR.JK',\n",
       " 'BJTM.JK']"
      ]
     },
     "execution_count": 4,
     "metadata": {},
     "output_type": "execute_result"
    }
   ],
   "source": [
    "bank_tickers= []\n",
    "for i in banks:\n",
    "    bank_tickers.append(i)\n",
    "bank_tickers"
   ]
  },
  {
   "cell_type": "markdown",
   "metadata": {},
   "source": [
    "RUN THIS FOR INFRASTRUCTURE STOCKS"
   ]
  },
  {
   "cell_type": "code",
   "execution_count": 3,
   "metadata": {},
   "outputs": [
    {
     "data": {
      "text/plain": [
       "['ADHI.JK',\n",
       " 'CENT.JK',\n",
       " 'EXCL.JK',\n",
       " 'IPCM.JK',\n",
       " 'IPCC.JK',\n",
       " 'ISAT.JK',\n",
       " 'JSMR.JK',\n",
       " 'PTPP.JK',\n",
       " 'TBIG.JK',\n",
       " 'TLKM.JK',\n",
       " 'WIKA.JK',\n",
       " 'WSKT.JK',\n",
       " 'TOWR.JK',\n",
       " 'SSIA.JK']"
      ]
     },
     "execution_count": 3,
     "metadata": {},
     "output_type": "execute_result"
    }
   ],
   "source": [
    "infra_data=open('infra.txt', 'r')\n",
    "infra_content=infra_data.read()\n",
    "infrastructures=infra_content.split(',')\n",
    "infra_data.close()\n",
    "infrastructures"
   ]
  },
  {
   "cell_type": "code",
   "execution_count": 4,
   "metadata": {},
   "outputs": [
    {
     "data": {
      "text/plain": [
       "['ADHI.JK',\n",
       " 'CENT.JK',\n",
       " 'EXCL.JK',\n",
       " 'IPCM.JK',\n",
       " 'IPCC.JK',\n",
       " 'ISAT.JK',\n",
       " 'JSMR.JK',\n",
       " 'PTPP.JK',\n",
       " 'TBIG.JK',\n",
       " 'TLKM.JK',\n",
       " 'WIKA.JK',\n",
       " 'WSKT.JK',\n",
       " 'TOWR.JK',\n",
       " 'SSIA.JK']"
      ]
     },
     "execution_count": 4,
     "metadata": {},
     "output_type": "execute_result"
    }
   ],
   "source": [
    "infra_tickers= []\n",
    "for i in infrastructures:\n",
    "    infra_tickers.append(i)\n",
    "infra_tickers"
   ]
  },
  {
   "cell_type": "code",
   "execution_count": 5,
   "metadata": {},
   "outputs": [],
   "source": [
    "def get_data(ticker):\n",
    "    global balance_sheet\n",
    "    global income_statement\n",
    "    global cfs\n",
    "    global years\n",
    "    \n",
    "    balance_sheet = yf.get_balance_sheet(ticker)\n",
    "    income_statement = yf.get_income_statement(ticker)\n",
    "    cfs = yf.get_cash_flow(ticker)\n",
    "    years=balance_sheet.columns"
   ]
  },
  {
   "cell_type": "code",
   "execution_count": 6,
   "metadata": {},
   "outputs": [],
   "source": [
    "def profitability():\n",
    "    global profitability_score\n",
    "    #Scores number 1 and 2 for Net Income\n",
    "    net_income = income_statement[years[0]]['netIncome']\n",
    "    net_income_py = income_statement[years[1]]['netIncome']\n",
    "    ni_score = 1 if net_income > 0 else 0\n",
    "    ni_score_2 = 1 if net_income > net_income_py else 0\n",
    "    \n",
    "    #Score number 3 for Operating Cashflow\n",
    "    op_cf = cfs[years[0]]['totalCashFromOperatingActivities']\n",
    "    op_cf_score = 1 if op_cf > 0 else 0\n",
    "    \n",
    "    #Score number 4 for RoA\n",
    "    avg_assets=(balance_sheet[years[0]]['totalAssets'] + \n",
    "                balance_sheet[years[1]]['totalAssets']) / 2\n",
    "    avg_assets_py=(balance_sheet[years[1]]['totalAssets'] + \n",
    "                balance_sheet[years[2]]['totalAssets']) / 2\n",
    "    \n",
    "    RoA = net_income/avg_assets\n",
    "    RoA_py = net_income_py/avg_assets_py\n",
    "    RoA_score = 1 if RoA > RoA_py else 0\n",
    "    \n",
    "    #Score number 5 for Accruals\n",
    "    total_assets = balance_sheet[years[0]]['totalAssets']\n",
    "    accruals = op_cf/total_assets - RoA\n",
    "    ac_score = 1 if accruals > 0 else 0\n",
    "    \n",
    "    profitability_score = ni_score + ni_score_2 + op_cf_score + RoA_score + ac_score\n",
    "    return profitability_score\n",
    "    "
   ]
  },
  {
   "cell_type": "code",
   "execution_count": 7,
   "metadata": {},
   "outputs": [],
   "source": [
    "def leverage():\n",
    "    global leverage_score\n",
    "    \n",
    "    #Score number 6 for long term debt ratio\n",
    "    try:\n",
    "        lt_debt = balance_sheet[years[0]]['longTermDebt']\n",
    "        total_assets = balance_sheet[years[0]]['totalAssets']\n",
    "        debt_ratio = lt_debt / total_assets\n",
    "        debt_ratio_score = 1 if debt_ratio < 0.4 else 0\n",
    "    except:\n",
    "        debt_ratio_score =1 \n",
    "        \n",
    "    #Score number 7 for current ratio\n",
    "    current_assets = balance_sheet[years[0]]['totalCurrentAssets']\n",
    "    current_liab = balance_sheet[years[0]]['totalCurrentLiabilities']\n",
    "    current_ratio = current_assets / current_liab\n",
    "    current_ratio_score = 1 if current_ratio > 1 else 0\n",
    "    \n",
    "    leverage_score = debt_ratio_score + current_ratio_score\n",
    "    return leverage_score"
   ]
  },
  {
   "cell_type": "code",
   "execution_count": 8,
   "metadata": {},
   "outputs": [],
   "source": [
    "def operating_efficiency():\n",
    "    global operating_efficiency_score\n",
    "    \n",
    "    #Score number 8 for change in gross margin\n",
    "    gp = income_statement[years[0]]['grossProfit']\n",
    "    gp_py = income_statement[years[1]]['grossProfit']\n",
    "    revenue = income_statement[years[0]]['totalRevenue']\n",
    "    revenue_py = income_statement[years[1]]['totalRevenue']\n",
    "    try:\n",
    "        gm = gp /revenue\n",
    "        gm_py = gp/ revenue_py\n",
    "        gross_margin_score = 1 if gm > gm_py else 0\n",
    "    except:\n",
    "        gross_margin_score = 0\n",
    "        \n",
    "    #Score number 9 for asset turnover (revenue/avg assets), how much revenue per assets\n",
    "    avg_assets=(balance_sheet[years[0]]['totalAssets'] + \n",
    "                balance_sheet[years[1]]['totalAssets']) / 2\n",
    "    avg_assets_py=(balance_sheet[years[1]]['totalAssets'] + \n",
    "                balance_sheet[years[2]]['totalAssets']) / 2\n",
    "    try:\n",
    "        assets_turnover = revenue/avg_assets\n",
    "        assets_turnover_py = revenue_py / avg_assets_py\n",
    "        at_score = 1 if assets_turnover > assets_turnover_py else 0\n",
    "    except: \n",
    "        at_score = 0\n",
    "        \n",
    "    operating_efficiency_score = gross_margin_score + at_score\n",
    "    return operating_efficiency_score"
   ]
  },
  {
   "cell_type": "code",
   "execution_count": 9,
   "metadata": {},
   "outputs": [
    {
     "name": "stdout",
     "output_type": "stream",
     "text": [
      "ADHI.JK\n",
      "CENT.JK\n",
      "EXCL.JK\n",
      "IPCM.JK\n",
      "IPCC.JK\n",
      "ISAT.JK\n",
      "JSMR.JK\n",
      "PTPP.JK\n",
      "TBIG.JK\n",
      "TLKM.JK\n",
      "WIKA.JK\n",
      "WSKT.JK\n",
      "TOWR.JK\n",
      "SSIA.JK\n"
     ]
    }
   ],
   "source": [
    "piotroski = []\n",
    "ticker_profitability = []\n",
    "ticker_leverage_data =[]\n",
    "ticker_operating_eff = []\n",
    "\"\"\"\n",
    "for ticker in sector_tickers\n",
    "    bank: bank_tickers\n",
    "    infrastructures: infra_tickers\n",
    "\"\"\"\n",
    "\n",
    "for ticker in infra_tickers:\n",
    "    try:\n",
    "        get_data(ticker)\n",
    "        print(ticker)\n",
    "        p_score = profitability()\n",
    "        l_score = leverage()\n",
    "        o_score = operating_efficiency()\n",
    "        total_score = p_score + l_score + o_score\n",
    "        piotroski.append(total_score)\n",
    "        ticker_profitability.append(p_score)\n",
    "        ticker_leverage_data.append(l_score)\n",
    "        ticker_operating_eff.append(o_score)\n",
    "    except:\n",
    "        print ('something went wrong for ' + ticker)\n",
    "\n"
   ]
  },
  {
   "cell_type": "code",
   "execution_count": 10,
   "metadata": {},
   "outputs": [
    {
     "data": {
      "text/plain": [
       "[6, 5, 4, 8, 5, 3, 6, 5, 5, 5, 7, 6, 4, 6]"
      ]
     },
     "execution_count": 10,
     "metadata": {},
     "output_type": "execute_result"
    }
   ],
   "source": [
    "piotroski"
   ]
  },
  {
   "cell_type": "code",
   "execution_count": 11,
   "metadata": {},
   "outputs": [],
   "source": [
    "#remember to change the tickers below according to the analyzed sector\n",
    "dict = {'ticker': infra_tickers, 'piotroski_score': piotroski, 'profitability': ticker_profitability,\n",
    "       'leverage': ticker_leverage_data, 'operating_efficiency': ticker_operating_eff}"
   ]
  },
  {
   "cell_type": "code",
   "execution_count": 12,
   "metadata": {},
   "outputs": [
    {
     "data": {
      "text/html": [
       "<div>\n",
       "<style scoped>\n",
       "    .dataframe tbody tr th:only-of-type {\n",
       "        vertical-align: middle;\n",
       "    }\n",
       "\n",
       "    .dataframe tbody tr th {\n",
       "        vertical-align: top;\n",
       "    }\n",
       "\n",
       "    .dataframe thead th {\n",
       "        text-align: right;\n",
       "    }\n",
       "</style>\n",
       "<table border=\"1\" class=\"dataframe\">\n",
       "  <thead>\n",
       "    <tr style=\"text-align: right;\">\n",
       "      <th></th>\n",
       "      <th>ticker</th>\n",
       "      <th>piotroski_score</th>\n",
       "      <th>profitability</th>\n",
       "      <th>leverage</th>\n",
       "      <th>operating_efficiency</th>\n",
       "    </tr>\n",
       "  </thead>\n",
       "  <tbody>\n",
       "    <tr>\n",
       "      <th>0</th>\n",
       "      <td>ADHI.JK</td>\n",
       "      <td>6</td>\n",
       "      <td>3</td>\n",
       "      <td>2</td>\n",
       "      <td>1</td>\n",
       "    </tr>\n",
       "    <tr>\n",
       "      <th>1</th>\n",
       "      <td>CENT.JK</td>\n",
       "      <td>5</td>\n",
       "      <td>3</td>\n",
       "      <td>2</td>\n",
       "      <td>0</td>\n",
       "    </tr>\n",
       "    <tr>\n",
       "      <th>2</th>\n",
       "      <td>EXCL.JK</td>\n",
       "      <td>4</td>\n",
       "      <td>3</td>\n",
       "      <td>1</td>\n",
       "      <td>0</td>\n",
       "    </tr>\n",
       "    <tr>\n",
       "      <th>3</th>\n",
       "      <td>IPCM.JK</td>\n",
       "      <td>8</td>\n",
       "      <td>5</td>\n",
       "      <td>2</td>\n",
       "      <td>1</td>\n",
       "    </tr>\n",
       "    <tr>\n",
       "      <th>4</th>\n",
       "      <td>IPCC.JK</td>\n",
       "      <td>5</td>\n",
       "      <td>3</td>\n",
       "      <td>2</td>\n",
       "      <td>0</td>\n",
       "    </tr>\n",
       "    <tr>\n",
       "      <th>5</th>\n",
       "      <td>ISAT.JK</td>\n",
       "      <td>3</td>\n",
       "      <td>2</td>\n",
       "      <td>1</td>\n",
       "      <td>0</td>\n",
       "    </tr>\n",
       "    <tr>\n",
       "      <th>6</th>\n",
       "      <td>JSMR.JK</td>\n",
       "      <td>6</td>\n",
       "      <td>4</td>\n",
       "      <td>1</td>\n",
       "      <td>1</td>\n",
       "    </tr>\n",
       "    <tr>\n",
       "      <th>7</th>\n",
       "      <td>PTPP.JK</td>\n",
       "      <td>5</td>\n",
       "      <td>2</td>\n",
       "      <td>2</td>\n",
       "      <td>1</td>\n",
       "    </tr>\n",
       "    <tr>\n",
       "      <th>8</th>\n",
       "      <td>TBIG.JK</td>\n",
       "      <td>5</td>\n",
       "      <td>5</td>\n",
       "      <td>0</td>\n",
       "      <td>0</td>\n",
       "    </tr>\n",
       "    <tr>\n",
       "      <th>9</th>\n",
       "      <td>TLKM.JK</td>\n",
       "      <td>5</td>\n",
       "      <td>4</td>\n",
       "      <td>1</td>\n",
       "      <td>0</td>\n",
       "    </tr>\n",
       "    <tr>\n",
       "      <th>10</th>\n",
       "      <td>WIKA.JK</td>\n",
       "      <td>7</td>\n",
       "      <td>4</td>\n",
       "      <td>2</td>\n",
       "      <td>1</td>\n",
       "    </tr>\n",
       "    <tr>\n",
       "      <th>11</th>\n",
       "      <td>WSKT.JK</td>\n",
       "      <td>6</td>\n",
       "      <td>3</td>\n",
       "      <td>2</td>\n",
       "      <td>1</td>\n",
       "    </tr>\n",
       "    <tr>\n",
       "      <th>12</th>\n",
       "      <td>TOWR.JK</td>\n",
       "      <td>4</td>\n",
       "      <td>4</td>\n",
       "      <td>0</td>\n",
       "      <td>0</td>\n",
       "    </tr>\n",
       "    <tr>\n",
       "      <th>13</th>\n",
       "      <td>SSIA.JK</td>\n",
       "      <td>6</td>\n",
       "      <td>3</td>\n",
       "      <td>2</td>\n",
       "      <td>1</td>\n",
       "    </tr>\n",
       "  </tbody>\n",
       "</table>\n",
       "</div>"
      ],
      "text/plain": [
       "     ticker  piotroski_score  profitability  leverage  operating_efficiency\n",
       "0   ADHI.JK                6              3         2                     1\n",
       "1   CENT.JK                5              3         2                     0\n",
       "2   EXCL.JK                4              3         1                     0\n",
       "3   IPCM.JK                8              5         2                     1\n",
       "4   IPCC.JK                5              3         2                     0\n",
       "5   ISAT.JK                3              2         1                     0\n",
       "6   JSMR.JK                6              4         1                     1\n",
       "7   PTPP.JK                5              2         2                     1\n",
       "8   TBIG.JK                5              5         0                     0\n",
       "9   TLKM.JK                5              4         1                     0\n",
       "10  WIKA.JK                7              4         2                     1\n",
       "11  WSKT.JK                6              3         2                     1\n",
       "12  TOWR.JK                4              4         0                     0\n",
       "13  SSIA.JK                6              3         2                     1"
      ]
     },
     "execution_count": 12,
     "metadata": {},
     "output_type": "execute_result"
    }
   ],
   "source": [
    "df = pd.DataFrame(dict)\n",
    "df"
   ]
  },
  {
   "cell_type": "code",
   "execution_count": 13,
   "metadata": {},
   "outputs": [
    {
     "data": {
      "text/plain": [
       "ticker                  IPCM.JK\n",
       "piotroski_score               8\n",
       "profitability                 5\n",
       "leverage                      2\n",
       "operating_efficiency          1\n",
       "Name: 3, dtype: object"
      ]
     },
     "execution_count": 13,
     "metadata": {},
     "output_type": "execute_result"
    }
   ],
   "source": [
    "df.loc[df['piotroski_score'].idxmax()]"
   ]
  },
  {
   "cell_type": "code",
   "execution_count": null,
   "metadata": {},
   "outputs": [],
   "source": []
  }
 ],
 "metadata": {
  "kernelspec": {
   "display_name": "Python 3",
   "language": "python",
   "name": "python3"
  },
  "language_info": {
   "codemirror_mode": {
    "name": "ipython",
    "version": 3
   },
   "file_extension": ".py",
   "mimetype": "text/x-python",
   "name": "python",
   "nbconvert_exporter": "python",
   "pygments_lexer": "ipython3",
   "version": "3.8.3"
  }
 },
 "nbformat": 4,
 "nbformat_minor": 4
}
